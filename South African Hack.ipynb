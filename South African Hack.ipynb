{
 "cells": [
  {
   "cell_type": "code",
   "execution_count": 1,
   "id": "028d5ab5-e657-4eab-a775-f27fb5badda8",
   "metadata": {},
   "outputs": [
    {
     "name": "stdout",
     "output_type": "stream",
     "text": [
      "Requirement already satisfied: langid in c:\\users\\katlego\\anaconda3\\lib\\site-packages (1.1.6)\n",
      "Requirement already satisfied: numpy in c:\\users\\katlego\\anaconda3\\lib\\site-packages (from langid) (1.24.3)\n"
     ]
    }
   ],
   "source": [
    "!pip install langid\n"
   ]
  },
  {
   "cell_type": "code",
   "execution_count": 2,
   "id": "8288350e-a901-4e2e-aa00-b9a54c74bc70",
   "metadata": {},
   "outputs": [
    {
     "name": "stdout",
     "output_type": "stream",
     "text": [
      "Requirement already satisfied: stop-words in c:\\users\\katlego\\anaconda3\\lib\\site-packages (2018.7.23)\n"
     ]
    }
   ],
   "source": [
    "!pip install stop-words\n"
   ]
  },
  {
   "cell_type": "code",
   "execution_count": 3,
   "id": "512bda31-4444-4da8-8b23-65a1acc18853",
   "metadata": {},
   "outputs": [],
   "source": [
    "import pandas as pd\n",
    "import numpy as np\n",
    "import matplotlib.pyplot as plt\n",
    "%matplotlib inline\n",
    "import seaborn as sns\n",
    "import re\n",
    "\n",
    "# set plot style\n",
    "sns.set()\n",
    "\n",
    "\n",
    "import warnings \n",
    "warnings.filterwarnings(\"ignore\")\n",
    "\n",
    "\n",
    "#for datacleaning\n",
    "from string import punctuation\n",
    "import string\n",
    "from nltk.tokenize import word_tokenize\n",
    "from nltk.corpus import stopwords\n",
    "from nltk.util import ngrams\n",
    "##training data\n",
    "from sklearn.neighbors import KNeighborsClassifier\n",
    "from sklearn.metrics import accuracy_score, precision_score, f1_score\n",
    "from sklearn.model_selection import train_test_split\n",
    "from sklearn.feature_extraction.text import TfidfVectorizer"
   ]
  },
  {
   "cell_type": "code",
   "execution_count": 4,
   "id": "37ff2482-64db-4967-a251-a59878b71c0d",
   "metadata": {},
   "outputs": [],
   "source": [
    "import pandas as pd\n",
    "\n",
    "# Load the training set\n",
    "train_df = pd.read_csv('train_set.csv')\n",
    "\n",
    "# Load the test set\n",
    "test_df = pd.read_csv('test_set.csv')\n",
    "\n"
   ]
  },
  {
   "cell_type": "code",
   "execution_count": null,
   "id": "775dfbc1-98a8-473d-a1cf-48071db11a04",
   "metadata": {},
   "outputs": [],
   "source": []
  },
  {
   "cell_type": "code",
   "execution_count": 5,
   "id": "e66d9736-d000-4c3e-955c-14b572a4cba6",
   "metadata": {},
   "outputs": [
    {
     "name": "stdout",
     "output_type": "stream",
     "text": [
      "  lang_id                                               text\n",
      "0     xho  umgaqo-siseko wenza amalungiselelo kumaziko ax...\n",
      "1     xho  i-dha iya kuba nobulumko bokubeka umsebenzi na...\n",
      "2     eng  the province of kwazulu-natal department of tr...\n",
      "3     nso  o netefatša gore o ba file dilo ka moka tše le...\n",
      "4     ven  khomishini ya ndinganyiso ya mbeu yo ewa maana...\n"
     ]
    }
   ],
   "source": [
    "print(train_df.head())\n"
   ]
  },
  {
   "cell_type": "code",
   "execution_count": 6,
   "id": "318b785b-d2cb-4249-a10a-b700015106b5",
   "metadata": {},
   "outputs": [
    {
     "data": {
      "text/html": [
       "<div>\n",
       "<style scoped>\n",
       "    .dataframe tbody tr th:only-of-type {\n",
       "        vertical-align: middle;\n",
       "    }\n",
       "\n",
       "    .dataframe tbody tr th {\n",
       "        vertical-align: top;\n",
       "    }\n",
       "\n",
       "    .dataframe thead th {\n",
       "        text-align: right;\n",
       "    }\n",
       "</style>\n",
       "<table border=\"1\" class=\"dataframe\">\n",
       "  <thead>\n",
       "    <tr style=\"text-align: right;\">\n",
       "      <th></th>\n",
       "      <th>index</th>\n",
       "      <th>text</th>\n",
       "    </tr>\n",
       "  </thead>\n",
       "  <tbody>\n",
       "    <tr>\n",
       "      <th>5677</th>\n",
       "      <td>5678</td>\n",
       "      <td>You mark your ballot in private.</td>\n",
       "    </tr>\n",
       "    <tr>\n",
       "      <th>5678</th>\n",
       "      <td>5679</td>\n",
       "      <td>Ge o ka kgetha ka bowena go se šomiše Mofani k...</td>\n",
       "    </tr>\n",
       "    <tr>\n",
       "      <th>5679</th>\n",
       "      <td>5680</td>\n",
       "      <td>E Ka kopo etsa kgetho ya hao ka hloko, hobane ...</td>\n",
       "    </tr>\n",
       "    <tr>\n",
       "      <th>5680</th>\n",
       "      <td>5681</td>\n",
       "      <td>TB ke bokudi ba PMB, mme Morero o tla lefella ...</td>\n",
       "    </tr>\n",
       "    <tr>\n",
       "      <th>5681</th>\n",
       "      <td>5682</td>\n",
       "      <td>Vakatjhela iwebhusayidi yethu ku-www.</td>\n",
       "    </tr>\n",
       "  </tbody>\n",
       "</table>\n",
       "</div>"
      ],
      "text/plain": [
       "      index                                               text\n",
       "5677   5678                   You mark your ballot in private.\n",
       "5678   5679  Ge o ka kgetha ka bowena go se šomiše Mofani k...\n",
       "5679   5680  E Ka kopo etsa kgetho ya hao ka hloko, hobane ...\n",
       "5680   5681  TB ke bokudi ba PMB, mme Morero o tla lefella ...\n",
       "5681   5682              Vakatjhela iwebhusayidi yethu ku-www."
      ]
     },
     "execution_count": 6,
     "metadata": {},
     "output_type": "execute_result"
    }
   ],
   "source": [
    "test_df.tail()"
   ]
  },
  {
   "cell_type": "code",
   "execution_count": 7,
   "id": "afc4fd37-afab-4013-81ca-1d83a2444303",
   "metadata": {},
   "outputs": [
    {
     "name": "stdout",
     "output_type": "stream",
     "text": [
      "Index(['lang_id', 'text'], dtype='object')\n"
     ]
    }
   ],
   "source": [
    "print(train_df.columns)"
   ]
  },
  {
   "cell_type": "code",
   "execution_count": 8,
   "id": "70974f1c-f822-4dee-8cf1-cef6844558bd",
   "metadata": {},
   "outputs": [
    {
     "name": "stdout",
     "output_type": "stream",
     "text": [
      "<class 'pandas.core.frame.DataFrame'>\n",
      "RangeIndex: 33000 entries, 0 to 32999\n",
      "Data columns (total 2 columns):\n",
      " #   Column   Non-Null Count  Dtype \n",
      "---  ------   --------------  ----- \n",
      " 0   lang_id  33000 non-null  object\n",
      " 1   text     33000 non-null  object\n",
      "dtypes: object(2)\n",
      "memory usage: 515.8+ KB\n"
     ]
    },
    {
     "data": {
      "text/html": [
       "<div>\n",
       "<style scoped>\n",
       "    .dataframe tbody tr th:only-of-type {\n",
       "        vertical-align: middle;\n",
       "    }\n",
       "\n",
       "    .dataframe tbody tr th {\n",
       "        vertical-align: top;\n",
       "    }\n",
       "\n",
       "    .dataframe thead th {\n",
       "        text-align: right;\n",
       "    }\n",
       "</style>\n",
       "<table border=\"1\" class=\"dataframe\">\n",
       "  <thead>\n",
       "    <tr style=\"text-align: right;\">\n",
       "      <th></th>\n",
       "      <th>lang_id</th>\n",
       "      <th>text</th>\n",
       "    </tr>\n",
       "  </thead>\n",
       "  <tbody>\n",
       "    <tr>\n",
       "      <th>0</th>\n",
       "      <td>xho</td>\n",
       "      <td>umgaqo-siseko wenza amalungiselelo kumaziko ax...</td>\n",
       "    </tr>\n",
       "    <tr>\n",
       "      <th>1</th>\n",
       "      <td>xho</td>\n",
       "      <td>i-dha iya kuba nobulumko bokubeka umsebenzi na...</td>\n",
       "    </tr>\n",
       "    <tr>\n",
       "      <th>2</th>\n",
       "      <td>eng</td>\n",
       "      <td>the province of kwazulu-natal department of tr...</td>\n",
       "    </tr>\n",
       "    <tr>\n",
       "      <th>3</th>\n",
       "      <td>nso</td>\n",
       "      <td>o netefatša gore o ba file dilo ka moka tše le...</td>\n",
       "    </tr>\n",
       "    <tr>\n",
       "      <th>4</th>\n",
       "      <td>ven</td>\n",
       "      <td>khomishini ya ndinganyiso ya mbeu yo ewa maana...</td>\n",
       "    </tr>\n",
       "  </tbody>\n",
       "</table>\n",
       "</div>"
      ],
      "text/plain": [
       "  lang_id                                               text\n",
       "0     xho  umgaqo-siseko wenza amalungiselelo kumaziko ax...\n",
       "1     xho  i-dha iya kuba nobulumko bokubeka umsebenzi na...\n",
       "2     eng  the province of kwazulu-natal department of tr...\n",
       "3     nso  o netefatša gore o ba file dilo ka moka tše le...\n",
       "4     ven  khomishini ya ndinganyiso ya mbeu yo ewa maana..."
      ]
     },
     "execution_count": 8,
     "metadata": {},
     "output_type": "execute_result"
    }
   ],
   "source": [
    "# Display basic statistics and information about the training set\n",
    "train_df.info()\n",
    "train_df.describe()\n",
    "train_df.head()"
   ]
  },
  {
   "cell_type": "code",
   "execution_count": 9,
   "id": "e1bb2684-0a98-468e-b3b2-bf51d64c7a6f",
   "metadata": {},
   "outputs": [
    {
     "data": {
      "image/png": "[encoded data removed]",
      "text/plain": [
       "<Figure size 640x480 with 1 Axes>"
      ]
     },
     "metadata": {},
     "output_type": "display_data"
    }
   ],
   "source": [
    "# Check the distribution of classes in the training set\n",
    "sns.countplot(x='lang_id', data=train_df)\n",
    "plt.title('Class Distribution in Training Set')\n",
    "plt.show()\n"
   ]
  },
  {
   "cell_type": "code",
   "execution_count": 10,
   "id": "b1cf67e1-413f-41a4-b197-d73a2f846951",
   "metadata": {},
   "outputs": [
    {
     "data": {
      "image/png": "[encoded data removed]",
      "text/plain": [
       "<Figure size 640x480 with 1 Axes>"
      ]
     },
     "metadata": {},
     "output_type": "display_data"
    }
   ],
   "source": [
    "# Explore the distribution of text lengths in the training set\n",
    "train_df['Text Length'] = train_df['text'].apply(len)\n",
    "sns.histplot(train_df['Text Length'], bins=30, kde=True)\n",
    "plt.title('Text Length Distribution in Training Set')\n",
    "plt.show()"
   ]
  },
  {
   "cell_type": "code",
   "execution_count": 11,
   "id": "76de4e32-20d7-4a17-95eb-14372594c0dd",
   "metadata": {},
   "outputs": [
    {
     "data": {
      "image/png": "[encoded data removed]",
      "text/plain": [
       "<Figure size 640x480 with 1 Axes>"
      ]
     },
     "metadata": {},
     "output_type": "display_data"
    }
   ],
   "source": [
    "train_df['Text Length'] = train_df['text'].apply(len)\n",
    "sns.boxplot(x='lang_id', y='Text Length', data=train_df)\n",
    "plt.title('Text Length Distribution by Language')\n",
    "plt.show()"
   ]
  },
  {
   "cell_type": "code",
   "execution_count": 12,
   "id": "642a7292-ee0d-43d2-a619-42797a59cd54",
   "metadata": {},
   "outputs": [],
   "source": [
    "import string\n",
    "\n",
    "# Define the new remove_punctuation function\n",
    "def remove_punctuation(text_list):\n",
    "    translator = str.maketrans('', '', string.punctuation)\n",
    "    text_no_punct = [str(text).translate(translator) for text in text_list]\n",
    "    return text_no_punct"
   ]
  },
  {
   "cell_type": "code",
   "execution_count": 13,
   "id": "e5fc12c1-ca4c-4905-b0c5-493b986e5f3a",
   "metadata": {},
   "outputs": [],
   "source": [
    "# Assuming train_df and test_df contain your training and testing data\n",
    "train_df['text'] = remove_punctuation(train_df['text'])\n",
    "test_df['text'] = remove_punctuation(test_df['text'])\n",
    "\n"
   ]
  },
  {
   "cell_type": "code",
   "execution_count": 14,
   "id": "bb79399a-d2f8-43f7-9f08-6ed52048cbee",
   "metadata": {},
   "outputs": [],
   "source": [
    "from nltk.corpus import stopwords\n",
    "\n",
    "from nltk.corpus import stopwords\n",
    "\n",
    "def remove_stopwords(text, lang_id):\n",
    "    # Define stopwords for different languages\n",
    "\n",
    "    en_stopwords = set(stopwords.words('english'))\n",
    "\n",
    "    # Select the stopwords based on the provided lang_id\n",
    "    if lang_id == 'en':\n",
    "        stopwords_set = en_stopwords\n",
    "    else:\n",
    "        # If lang_id is not recognized, return the original text without removing any stopwords\n",
    "        return text\n",
    "\n",
    "    # Split the text into words and filter out stopwords\n",
    "    words = text.split()\n",
    "    filtered_words = [word for word in words if word.lower() not in stopwords_set]\n",
    "\n",
    "    # Join the filtered words back into a string\n",
    "    cleaned_text = ' '.join(filtered_words)\n",
    "\n",
    "    return cleaned_text\n",
    "\n",
    "    # Use NLTK English stopwords\n",
    "    en_stopwords = set(stopwords.words('english'))\n",
    "\n",
    "    # Select the stopwords based on the provided lang_id\n",
    "    if lang_id == 'zul':\n",
    "        stopwords_set = zul_stopwords\n",
    "    elif lang_id == 'afr':\n",
    "        stopwords_set = afr_stopwords\n",
    "    elif lang_id == 'sot':\n",
    "        stopwords_set = sot_stopwords\n",
    "    elif lang_id == 'nso':\n",
    "        stopwords_set = nso_stopwords\n",
    "    elif lang_id == 'en':\n",
    "        stopwords_set = en_stopwords\n",
    "    else:\n",
    "        # If lang_id is not recognized, return the original text without removing any stopwords\n",
    "        return text\n",
    "\n",
    "    # Split the text into words and filter out stopwords\n",
    "    words = text.split()\n",
    "    filtered_words = [word for word in words if word.lower() not in stopwords_set]\n",
    "\n",
    "    # Join the filtered words back into a string\n",
    "    cleaned_text = ' '.join(filtered_words)\n",
    "\n",
    "    return cleaned_text\n"
   ]
  },
  {
   "cell_type": "code",
   "execution_count": 15,
   "id": "d0a581aa-2c37-4a59-b82c-dbb9c52d72c1",
   "metadata": {},
   "outputs": [],
   "source": [
    " # Assuming 'lang_id' is a column in your DataFrame\n",
    "languages = train_df['lang_id'].unique()\n",
    "\n",
    "\n"
   ]
  },
  {
   "cell_type": "code",
   "execution_count": 16,
   "id": "45b517f0-e395-48cc-a235-6a2f76c84141",
   "metadata": {},
   "outputs": [],
   "source": [
    "\n",
    "# Assuming lang_ids is a list of language IDs\n",
    "lang_ids = ['en', 'fr', 'es', 'de', '...']\n",
    "\n",
    "# Loop through each language ID\n",
    "for lang_id in lang_ids:\n",
    "    # Assuming test_df is your DataFrame\n",
    "    test_df['text'] = test_df['text'].apply(lambda x: remove_stopwords(x, lang_id=lang_id))\n"
   ]
  },
  {
   "cell_type": "code",
   "execution_count": 17,
   "id": "da0f85db-f52b-4b3f-b629-44fdba410307",
   "metadata": {},
   "outputs": [],
   "source": [
    "train_df['text'] = train_df['text'].apply(lambda x: word_tokenize(str(x)))\n"
   ]
  },
  {
   "cell_type": "code",
   "execution_count": 18,
   "id": "019fa8d0-aadb-4c01-a687-93ff48c0db89",
   "metadata": {},
   "outputs": [],
   "source": [
    "test_df['text'] = test_df['text'].apply(lambda x: word_tokenize(str(x)))\n"
   ]
  },
  {
   "cell_type": "code",
   "execution_count": null,
   "id": "0fd64c3b-d96c-4ca2-a20d-d1c2a026ae97",
   "metadata": {},
   "outputs": [],
   "source": []
  },
  {
   "cell_type": "code",
   "execution_count": 19,
   "id": "01204f89-01f7-434f-80f5-bb6936369203",
   "metadata": {},
   "outputs": [
    {
     "name": "stdout",
     "output_type": "stream",
     "text": [
      "Index(['lang_id', 'text', 'Text Length'], dtype='object')\n"
     ]
    }
   ],
   "source": [
    "print(train_df.columns)\n"
   ]
  },
  {
   "cell_type": "code",
   "execution_count": null,
   "id": "ab08e42e-05c1-45ea-ae9c-17705b5c2180",
   "metadata": {},
   "outputs": [],
   "source": []
  },
  {
   "cell_type": "code",
   "execution_count": 20,
   "id": "73b8f35f-461a-493c-97e5-512f403bfd4c",
   "metadata": {},
   "outputs": [],
   "source": [
    "from collections import Counter\n",
    "\n",
    "def bag_of_words_count(words, word_dict=None):\n",
    "    \"\"\" This function takes in a list of words or a string and returns a dictionary\n",
    "        with each word as a key, and the value represents the number of\n",
    "        times that word appeared \"\"\"\n",
    "    if word_dict is None:\n",
    "        word_dict = Counter()\n",
    "\n",
    "    # If the input is a string, tokenize it into a list of words\n",
    "    if isinstance(words, str):\n",
    "        words = words.split()\n",
    "\n",
    "    word_dict.update(words)\n",
    "    return word_dict\n"
   ]
  },
  {
   "cell_type": "code",
   "execution_count": 21,
   "id": "098321d4-7f76-4c0a-8bb7-57b57dcbf28a",
   "metadata": {},
   "outputs": [],
   "source": [
    "# Assuming 'lang_id' is a column in your DataFrame\n",
    "languages = train_df['lang_id'].unique()\n"
   ]
  },
  {
   "cell_type": "code",
   "execution_count": 22,
   "id": "e7f5f501-5e80-48de-be24-36e608f32fc8",
   "metadata": {},
   "outputs": [],
   "source": [
    "# Create a dictionary to store bag-of-words representations for each language\n",
    "languages_bow = {}\n",
    "\n",
    "# Group the DataFrame by 'lang_id'\n",
    "train_df_grouped = train_df.groupby('lang_id')\n",
    "\n",
    "# Iterate over the unique values in the 'lang_id' column\n",
    "for lang in languages:\n",
    "    # Initialize a bag-of-words dictionary for the current language\n",
    "    languages_bow[lang] = Counter()\n",
    "\n",
    "    # Get the group for the current language\n",
    "    lang_group = train_df_grouped.get_group(lang)\n",
    "\n",
    "    # Iterate over the rows in the group\n",
    "    for row in lang_group['text']:\n",
    "        # Flatten the list if it's a list of lists\n",
    "        words = [word for sublist in row for word in sublist]\n",
    "\n",
    "        # Update the bag-of-words dictionary for the current language\n",
    "        languages_bow[lang] = bag_of_words_count(words, languages_bow[lang])\n",
    "\n",
    "    # Update the set of all unique words\n"
   ]
  },
  {
   "cell_type": "code",
   "execution_count": 23,
   "id": "a246cd7e-a81c-46f0-ad34-ab67ca66a2cd",
   "metadata": {},
   "outputs": [],
   "source": [
    "#test data\n",
    "def bag_of_words_count(words, word_dict=None):\n",
    "    \"\"\" This function takes in a list of words and returns a dictionary\n",
    "        with each word as a key, and the value represents the number of\n",
    "        times that word appeared \"\"\"\n",
    "    if word_dict is None:\n",
    "        word_dict = {}\n",
    "\n",
    "    for word in words:\n",
    "        if word in word_dict:\n",
    "            word_dict[word] += 1\n",
    "        else:\n",
    "            word_dict[word] = 1\n",
    "\n",
    "    return word_dict"
   ]
  },
  {
   "cell_type": "code",
   "execution_count": 24,
   "id": "2477901d-723f-4fee-a970-0e88b0c0ef30",
   "metadata": {},
   "outputs": [],
   "source": [
    "# Initialize a combined bag-of-words dictionary for the test data\n",
    "combined_bow_test = {}\n",
    "\n",
    "# Initialize a set to store all unique words across all texts\n",
    "all_words_test = set()\n",
    "\n",
    "# Iterate over the 'text' column of textdata (assuming 'textdata' is your test dataset)\n",
    "for text in test_df['text']:\n",
    "    # Check if text is a non-empty list before processing\n",
    "    if isinstance(text, list) and text:\n",
    "        # Update the combined bag-of-words dictionary for the test data\n",
    "        combined_bow_test = bag_of_words_count(text, combined_bow_test)\n",
    "\n",
    "        # Update the set of all unique words\n",
    "        all_words_test.update(text)"
   ]
  },
  {
   "cell_type": "code",
   "execution_count": 25,
   "id": "77839ad0-4969-436f-9acb-b75c581eb813",
   "metadata": {},
   "outputs": [],
   "source": [
    "from sklearn.metrics import accuracy_score, precision_score, f1_score, confusion_matrix\n",
    "from sklearn.neighbors import KNeighborsClassifier\n",
    "from sklearn.model_selection import train_test_split\n",
    "from sklearn.feature_extraction.text import TfidfVectorizer\n",
    "import pandas as pd\n",
    "\n",
    "## Convert lists of words to strings for training data\n",
    "train_texts = [' '.join(map(str, text)) if isinstance(text, list) else str(text) for text in train_df['text']]\n"
   ]
  },
  {
   "cell_type": "code",
   "execution_count": 26,
   "id": "fa937e35-1590-4e83-9509-293109ff9f82",
   "metadata": {},
   "outputs": [],
   "source": [
    "# Convert lists of words to strings for test data\n",
    "test_texts = [' '.join(map(str, text)) if isinstance(text, list) else str(text) for text in test_df['text']]\n"
   ]
  },
  {
   "cell_type": "code",
   "execution_count": 27,
   "id": "e5f80df2-c92e-4e19-ba33-a738bc7d3df8",
   "metadata": {},
   "outputs": [],
   "source": [
    "# Vectorize the training data\n",
    "vectorizer = TfidfVectorizer()\n",
    "X_train = vectorizer.fit_transform(train_texts)\n"
   ]
  },
  {
   "cell_type": "code",
   "execution_count": 28,
   "id": "d17180df-c066-414f-a887-560ee53cf1ff",
   "metadata": {},
   "outputs": [],
   "source": [
    "# Vectorize the test data\n",
    "X_test = vectorizer.transform(test_texts)\n"
   ]
  },
  {
   "cell_type": "code",
   "execution_count": 29,
   "id": "4913a34e-eabd-4b3e-94e9-46eefa84417e",
   "metadata": {},
   "outputs": [],
   "source": [
    "# Create targets for training\n",
    "y_train = train_df['lang_id']\n",
    "\n"
   ]
  },
  {
   "cell_type": "code",
   "execution_count": 30,
   "id": "95100bbd-4bd6-483b-a2fa-d3415847d99e",
   "metadata": {},
   "outputs": [],
   "source": [
    "# Split the data into training and test sets\n",
    "X_train_split, X_test_split, y_train_split, y_test_split = train_test_split(X_train, y_train, test_size=0.2, random_state=42, stratify=y_train)\n",
    "######receck this makesure yourbariables are consistent\n",
    "\n"
   ]
  },
  {
   "cell_type": "code",
   "execution_count": 31,
   "id": "077a0777-ce94-4132-afb7-ed55ab196530",
   "metadata": {},
   "outputs": [
    {
     "data": {
      "text/html": [
       "<style>#sk-container-id-1 {color: black;}#sk-container-id-1 pre{padding: 0;}#sk-container-id-1 div.sk-toggleable {background-color: white;}#sk-container-id-1 label.sk-toggleable__label {cursor: pointer;display: block;width: 100%;margin-bottom: 0;padding: 0.3em;box-sizing: border-box;text-align: center;}#sk-container-id-1 label.sk-toggleable__label-arrow:before {content: \"▸\";float: left;margin-right: 0.25em;color: #696969;}#sk-container-id-1 label.sk-toggleable__label-arrow:hover:before {color: black;}#sk-container-id-1 div.sk-estimator:hover label.sk-toggleable__label-arrow:before {color: black;}#sk-container-id-1 div.sk-toggleable__content {max-height: 0;max-width: 0;overflow: hidden;text-align: left;background-color: #f0f8ff;}#sk-container-id-1 div.sk-toggleable__content pre {margin: 0.2em;color: black;border-radius: 0.25em;background-color: #f0f8ff;}#sk-container-id-1 input.sk-toggleable__control:checked~div.sk-toggleable__content {max-height: 200px;max-width: 100%;overflow: auto;}#sk-container-id-1 input.sk-toggleable__control:checked~label.sk-toggleable__label-arrow:before {content: \"▾\";}#sk-container-id-1 div.sk-estimator input.sk-toggleable__control:checked~label.sk-toggleable__label {background-color: #d4ebff;}#sk-container-id-1 div.sk-label input.sk-toggleable__control:checked~label.sk-toggleable__label {background-color: #d4ebff;}#sk-container-id-1 input.sk-hidden--visually {border: 0;clip: rect(1px 1px 1px 1px);clip: rect(1px, 1px, 1px, 1px);height: 1px;margin: -1px;overflow: hidden;padding: 0;position: absolute;width: 1px;}#sk-container-id-1 div.sk-estimator {font-family: monospace;background-color: #f0f8ff;border: 1px dotted black;border-radius: 0.25em;box-sizing: border-box;margin-bottom: 0.5em;}#sk-container-id-1 div.sk-estimator:hover {background-color: #d4ebff;}#sk-container-id-1 div.sk-parallel-item::after {content: \"\";width: 100%;border-bottom: 1px solid gray;flex-grow: 1;}#sk-container-id-1 div.sk-label:hover label.sk-toggleable__label {background-color: #d4ebff;}#sk-container-id-1 div.sk-serial::before {content: \"\";position: absolute;border-left: 1px solid gray;box-sizing: border-box;top: 0;bottom: 0;left: 50%;z-index: 0;}#sk-container-id-1 div.sk-serial {display: flex;flex-direction: column;align-items: center;background-color: white;padding-right: 0.2em;padding-left: 0.2em;position: relative;}#sk-container-id-1 div.sk-item {position: relative;z-index: 1;}#sk-container-id-1 div.sk-parallel {display: flex;align-items: stretch;justify-content: center;background-color: white;position: relative;}#sk-container-id-1 div.sk-item::before, #sk-container-id-1 div.sk-parallel-item::before {content: \"\";position: absolute;border-left: 1px solid gray;box-sizing: border-box;top: 0;bottom: 0;left: 50%;z-index: -1;}#sk-container-id-1 div.sk-parallel-item {display: flex;flex-direction: column;z-index: 1;position: relative;background-color: white;}#sk-container-id-1 div.sk-parallel-item:first-child::after {align-self: flex-end;width: 50%;}#sk-container-id-1 div.sk-parallel-item:last-child::after {align-self: flex-start;width: 50%;}#sk-container-id-1 div.sk-parallel-item:only-child::after {width: 0;}#sk-container-id-1 div.sk-dashed-wrapped {border: 1px dashed gray;margin: 0 0.4em 0.5em 0.4em;box-sizing: border-box;padding-bottom: 0.4em;background-color: white;}#sk-container-id-1 div.sk-label label {font-family: monospace;font-weight: bold;display: inline-block;line-height: 1.2em;}#sk-container-id-1 div.sk-label-container {text-align: center;}#sk-container-id-1 div.sk-container {/* jupyter's `normalize.less` sets `[hidden] { display: none; }` but bootstrap.min.css set `[hidden] { display: none !important; }` so we also need the `!important` here to be able to override the default hidden behavior on the sphinx rendered scikit-learn.org. See: https://github.com/scikit-learn/scikit-learn/issues/21755 */display: inline-block !important;position: relative;}#sk-container-id-1 div.sk-text-repr-fallback {display: none;}</style><div id=\"sk-container-id-1\" class=\"sk-top-container\"><div class=\"sk-text-repr-fallback\"><pre>KNeighborsClassifier()</pre><b>In a Jupyter environment, please rerun this cell to show the HTML representation or trust the notebook. <br />On GitHub, the HTML representation is unable to render, please try loading this page with nbviewer.org.</b></div><div class=\"sk-container\" hidden><div class=\"sk-item\"><div class=\"sk-estimator sk-toggleable\"><input class=\"sk-toggleable__control sk-hidden--visually\" id=\"sk-estimator-id-1\" type=\"checkbox\" checked><label for=\"sk-estimator-id-1\" class=\"sk-toggleable__label sk-toggleable__label-arrow\">KNeighborsClassifier</label><div class=\"sk-toggleable__content\"><pre>KNeighborsClassifier()</pre></div></div></div></div></div>"
      ],
      "text/plain": [
       "KNeighborsClassifier()"
      ]
     },
     "execution_count": 31,
     "metadata": {},
     "output_type": "execute_result"
    }
   ],
   "source": [
    "# Train the KNN model using the training split\n",
    "# Train the KNN model using the training split\n",
    "knn_model = KNeighborsClassifier()\n",
    "knn_model.fit(X_train_split, y_train_split)\n"
   ]
  },
  {
   "cell_type": "code",
   "execution_count": 32,
   "id": "3159187c-d61c-4e37-8f6c-19918afd9637",
   "metadata": {},
   "outputs": [],
   "source": [
    "# Predict on the test set\n",
    "knn_pred = knn_model.predict(X_test_split)\n"
   ]
  },
  {
   "cell_type": "code",
   "execution_count": 33,
   "id": "a47f1fe8-1d79-4c6e-b876-f23f4080d719",
   "metadata": {},
   "outputs": [],
   "source": [
    "\n",
    "\n",
    "# Evaluate the model using the test split\n",
    "accuracy = accuracy_score(y_test_split, knn_pred)\n",
    "precision = precision_score(y_test_split, knn_pred, average='weighted')\n",
    "f1 = f1_score(y_test_split, knn_pred, average='weighted')\n",
    "conf_matrix = confusion_matrix(y_test_split, knn_pred)"
   ]
  },
  {
   "cell_type": "code",
   "execution_count": 34,
   "id": "e29fd3e7-6165-471f-86d0-941b805fc2f7",
   "metadata": {},
   "outputs": [
    {
     "name": "stdout",
     "output_type": "stream",
     "text": [
      "Accuracy: 0.9638\n",
      "Precision: 0.9641\n",
      "F1 Score: 0.9635\n",
      "Confusion Matrix:\n"
     ]
    }
   ],
   "source": [
    "# Display the evaluation metrics\n",
    "print(f'Accuracy: {accuracy:.4f}')\n",
    "print(f'Precision: {precision:.4f}')\n",
    "print(f'F1 Score: {f1:.4f}')\n",
    "print('Confusion Matrix:')"
   ]
  },
  {
   "cell_type": "code",
   "execution_count": 35,
   "id": "5c6d1282-822c-4f8d-b5d2-e7ad2963c6a0",
   "metadata": {},
   "outputs": [],
   "source": [
    "import joblib\n",
    "\n",
    "# Assuming knn_model is your trained KNN model\n",
    "knn_model.fit(X_train, y_train)\n",
    "\n",
    "# Save the trained model using joblib\n",
    "joblib.dump(knn_model, 'knn_model.joblib')\n",
    "\n",
    "# Make predictions on the test set\n",
    "knn_pred = knn_model.predict(X_test)\n",
    "\n",
    "# Create the submission DataFrame\n",
    "submission_df = pd.DataFrame({\n",
    "    \"index\": test_df['index'],\n",
    "    \"lang_id\": knn_pred\n",
    "})\n",
    "\n",
    "# Save the DataFrame to a CSV file\n",
    "submission_df.to_csv('knn_submission.csv', index=False)\n"
   ]
  },
  {
   "cell_type": "code",
   "execution_count": null,
   "id": "eeaf1757-9580-437f-bda3-186b8b1df322",
   "metadata": {},
   "outputs": [],
   "source": []
  },
  {
   "cell_type": "code",
   "execution_count": null,
   "id": "481981a4-dd2a-4fa5-abb5-bfe5f9a4e7a5",
   "metadata": {},
   "outputs": [],
   "source": []
  }
 ],
 "metadata": {
  "kernelspec": {
   "display_name": "Python 3 (ipykernel)",
   "language": "python",
   "name": "python3"
  },
  "language_info": {
   "codemirror_mode": {
    "name": "ipython",
    "version": 3
   },
   "file_extension": ".py",
   "mimetype": "text/x-python",
   "name": "python",
   "nbconvert_exporter": "python",
   "pygments_lexer": "ipython3",
   "version": "3.11.5"
  }
 },
 "nbformat": 4,
 "nbformat_minor": 5
}
